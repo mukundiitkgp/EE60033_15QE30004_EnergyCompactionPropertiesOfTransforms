{
 "cells": [
  {
   "cell_type": "code",
   "execution_count": 1,
   "metadata": {
    "collapsed": true
   },
   "outputs": [],
   "source": [
    "import numpy as np\n",
    "import matplotlib.pyplot as plt\n",
    "import scipy\n",
    "from scipy.io import wavfile\n",
    "from scipy.fftpack import fft,ifft,dct,idct\n",
    "import pywt"
   ]
  },
  {
   "cell_type": "code",
   "execution_count": 2,
   "metadata": {
    "collapsed": true
   },
   "outputs": [],
   "source": [
    "L=2000\n",
    "N=65536"
   ]
  },
  {
   "cell_type": "code",
   "execution_count": 3,
   "metadata": {
    "collapsed": true
   },
   "outputs": [],
   "source": [
    "rate, x = wavfile.read('audio.wav')"
   ]
  },
  {
   "cell_type": "code",
   "execution_count": 4,
   "metadata": {
    "collapsed": true
   },
   "outputs": [],
   "source": [
    "r=[]\n",
    "for i in range(N):\n",
    "    r.append(x[i])"
   ]
  },
  {
   "cell_type": "code",
   "execution_count": 5,
   "metadata": {},
   "outputs": [
    {
     "data": {
      "image/png": "[encoded data removed]",
      "text/plain": [
       "<matplotlib.figure.Figure at 0x182442e7780>"
      ]
     },
     "metadata": {},
     "output_type": "display_data"
    }
   ],
   "source": [
    "plt.plot(r)\n",
    "plt.show()"
   ]
  },
  {
   "cell_type": "code",
   "execution_count": 6,
   "metadata": {
    "collapsed": true
   },
   "outputs": [],
   "source": [
    "D=fft(r)\n",
    "D=np.array(D)\n",
    "r=np.array(r)"
   ]
  },
  {
   "cell_type": "code",
   "execution_count": 7,
   "metadata": {},
   "outputs": [
    {
     "name": "stderr",
     "output_type": "stream",
     "text": [
      "C:\\Users\\Phani Mukund Pammi\\Anaconda3\\lib\\site-packages\\ipykernel_launcher.py:1: ComplexWarning: Casting complex values to real discards the imaginary part\n",
      "  \"\"\"Entry point for launching an IPython kernel.\n"
     ]
    }
   ],
   "source": [
    "scipy.io.wavfile.write(('dft.wav'),rate,D.astype(r.dtype))"
   ]
  },
  {
   "cell_type": "code",
   "execution_count": 8,
   "metadata": {
    "collapsed": true
   },
   "outputs": [],
   "source": [
    "def energy_compact_Xm(X,L):\n",
    "    Xm1=[]\n",
    "    N=len(X)\n",
    "    for i in range(N):\n",
    "        if i<=int((N-1-L)/2):\n",
    "            Xm1.append(X[i])\n",
    "        elif i>=int((N+1+L)/2) and i<=N-1:\n",
    "            Xm1.append(X[i])\n",
    "    return Xm1"
   ]
  },
  {
   "cell_type": "code",
   "execution_count": 9,
   "metadata": {},
   "outputs": [
    {
     "name": "stderr",
     "output_type": "stream",
     "text": [
      "C:\\Users\\Phani Mukund Pammi\\Anaconda3\\lib\\site-packages\\ipykernel_launcher.py:3: ComplexWarning: Casting complex values to real discards the imaginary part\n",
      "  This is separate from the ipykernel package so we can avoid doing imports until\n"
     ]
    }
   ],
   "source": [
    "Xm1=energy_compact_Xm(D,L)\n",
    "Xm1=np.array(Xm1)\n",
    "scipy.io.wavfile.write(('compactdft.wav'),rate,Xm1.astype(r.dtype))"
   ]
  },
  {
   "cell_type": "code",
   "execution_count": 10,
   "metadata": {
    "collapsed": true
   },
   "outputs": [],
   "source": [
    "def energy_decompact_Xm(N):\n",
    "    r1, a = wavfile.read('compactdft.wav')\n",
    "    Xm1=[]\n",
    "    for i in range(N-L):\n",
    "        Xm1.append(a[i])\n",
    "    Xm2=[]\n",
    "    for i in range(N):\n",
    "        if i<=int((N-1-L)/2):\n",
    "            Xm2.append(Xm1[i])\n",
    "        elif i>=int((N+1-L)/2) and i<=int((N-1+L)/2):\n",
    "            Xm2.append(0)\n",
    "        elif i>=int((N+1+L)/2) and i<=N-1:\n",
    "            p=i-L\n",
    "            Xm2.append(Xm1[p])\n",
    "    return Xm2"
   ]
  },
  {
   "cell_type": "code",
   "execution_count": 11,
   "metadata": {},
   "outputs": [
    {
     "data": {
      "text/plain": [
       "65536"
      ]
     },
     "execution_count": 11,
     "metadata": {},
     "output_type": "execute_result"
    }
   ],
   "source": [
    "Xm2=energy_decompact_Xm(N)\n",
    "len(Xm2)"
   ]
  },
  {
   "cell_type": "code",
   "execution_count": 12,
   "metadata": {},
   "outputs": [
    {
     "name": "stderr",
     "output_type": "stream",
     "text": [
      "C:\\Users\\Phani Mukund Pammi\\Anaconda3\\lib\\site-packages\\ipykernel_launcher.py:3: ComplexWarning: Casting complex values to real discards the imaginary part\n",
      "  This is separate from the ipykernel package so we can avoid doing imports until\n"
     ]
    }
   ],
   "source": [
    "xm1=ifft(Xm2)\n",
    "xm1=np.array(xm1)\n",
    "scipy.io.wavfile.write(('resultdft.wav'),rate,Xm1.astype(r.dtype))"
   ]
  },
  {
   "cell_type": "code",
   "execution_count": 13,
   "metadata": {
    "collapsed": true
   },
   "outputs": [],
   "source": [
    "C=dct(r)\n",
    "C=np.array(C)"
   ]
  },
  {
   "cell_type": "code",
   "execution_count": 14,
   "metadata": {
    "collapsed": true
   },
   "outputs": [],
   "source": [
    "scipy.io.wavfile.write(('dct.wav'),rate,C.astype(r.dtype))"
   ]
  },
  {
   "cell_type": "code",
   "execution_count": 15,
   "metadata": {
    "collapsed": true
   },
   "outputs": [],
   "source": [
    "def energy_compact_dct(C,L):\n",
    "    N=len(C)\n",
    "    Xm2=[]\n",
    "    for i in range(N):\n",
    "        if i<=(N-1-L):\n",
    "            Xm2.append(C[i])\n",
    "    return Xm2"
   ]
  },
  {
   "cell_type": "code",
   "execution_count": 16,
   "metadata": {
    "collapsed": true
   },
   "outputs": [],
   "source": [
    "Xm2=energy_compact_dct(C,L)\n",
    "Xm2=np.array(Xm2)\n",
    "scipy.io.wavfile.write(('compactdct.wav'),rate,Xm2.astype(r.dtype))"
   ]
  },
  {
   "cell_type": "code",
   "execution_count": 17,
   "metadata": {
    "collapsed": true
   },
   "outputs": [],
   "source": [
    "def energy_decompact(N,L):\n",
    "    r1, a = wavfile.read('compactdct.wav')\n",
    "    Xm1=[]\n",
    "    for i in range(N-L):\n",
    "        Xm1.append(a[i])\n",
    "    Xm2=[]\n",
    "    for i in range(N):\n",
    "        if i<=(N-1-L):\n",
    "            Xm2.append(Xm1[i])\n",
    "        else:\n",
    "            Xm2.append(0)\n",
    "    return Xm2"
   ]
  },
  {
   "cell_type": "code",
   "execution_count": 18,
   "metadata": {
    "collapsed": true
   },
   "outputs": [],
   "source": [
    "Xm2=energy_decompact(N,L)\n",
    "xm2=idct(Xm2)/(2*rate)\n",
    "xm2=np.array(xm2)\n",
    "scipy.io.wavfile.write(('resultdct.wav'),rate,xm2.astype(r.dtype))"
   ]
  },
  {
   "cell_type": "code",
   "execution_count": 19,
   "metadata": {
    "collapsed": true
   },
   "outputs": [],
   "source": [
    "def haar(x):\n",
    "    out = []\n",
    "    (ca, cd) = pywt.dwt(x,'haar')\n",
    "    out = list(cd)+out\n",
    "    while len(ca)!=1:\n",
    "        (ca, cd) = pywt.dwt(ca,'haar')\n",
    "        out = list(cd)+out\n",
    "    out = list(ca)+out\n",
    "    return out"
   ]
  },
  {
   "cell_type": "code",
   "execution_count": 20,
   "metadata": {
    "collapsed": true
   },
   "outputs": [],
   "source": [
    "def ihaar(x):\n",
    "    N = len(x)\n",
    "    i = 0\n",
    "    x[:2] = pywt.idwt([x[0]], [x[1]],'haar')\n",
    "    i = 2\n",
    "    while 2*i<N+1:\n",
    "        try:\n",
    "            x[:2*i] = pywt.idwt(x[:i],x[i:2*i],'haar')\n",
    "        except:\n",
    "            print(i)\n",
    "            return\n",
    "        i = 2*i\n",
    "    return x"
   ]
  },
  {
   "cell_type": "code",
   "execution_count": 21,
   "metadata": {
    "collapsed": true
   },
   "outputs": [],
   "source": [
    "H=haar(r)\n",
    "H=np.array(H)"
   ]
  },
  {
   "cell_type": "code",
   "execution_count": 22,
   "metadata": {
    "collapsed": true
   },
   "outputs": [],
   "source": [
    "scipy.io.wavfile.write(('haar.wav'),rate,H.astype(r.dtype))"
   ]
  },
  {
   "cell_type": "code",
   "execution_count": 23,
   "metadata": {
    "collapsed": true
   },
   "outputs": [],
   "source": [
    "def energy_compact_haar(H,L):\n",
    "    N=len(C)\n",
    "    Xm2=[]\n",
    "    for i in range(N):\n",
    "        if i<=(N-1-L):\n",
    "            Xm2.append(C[i])\n",
    "    return Xm2"
   ]
  },
  {
   "cell_type": "code",
   "execution_count": 24,
   "metadata": {
    "collapsed": true
   },
   "outputs": [],
   "source": [
    "Xm2=energy_compact_haar(H,L)\n",
    "Xm2=np.array(Xm2)\n",
    "scipy.io.wavfile.write(('compacthaar.wav'),rate,Xm2.astype(r.dtype))"
   ]
  },
  {
   "cell_type": "code",
   "execution_count": 25,
   "metadata": {
    "collapsed": true
   },
   "outputs": [],
   "source": [
    "def energy_decompact_haar(N,L):\n",
    "    r1, a = wavfile.read('compacthaar.wav')\n",
    "    Xm1=[]\n",
    "    for i in range(N-L):\n",
    "        Xm1.append(a[i])\n",
    "    Xm2=[]\n",
    "    for i in range(N):\n",
    "        if i<=(N-1-L):\n",
    "            Xm2.append(Xm1[i])\n",
    "        else:\n",
    "            Xm2.append(0)\n",
    "    return Xm2"
   ]
  },
  {
   "cell_type": "code",
   "execution_count": 26,
   "metadata": {
    "collapsed": true
   },
   "outputs": [],
   "source": [
    "Xm2=energy_decompact_haar(N,L)\n",
    "xm2=ihaar(Xm2)\n",
    "xm2=np.array(xm2)\n",
    "scipy.io.wavfile.write(('resulthaar.wav'),rate,xm2.astype(r.dtype))"
   ]
  },
  {
   "cell_type": "code",
   "execution_count": null,
   "metadata": {
    "collapsed": true
   },
   "outputs": [],
   "source": []
  }
 ],
 "metadata": {
  "kernelspec": {
   "display_name": "Python 3",
   "language": "python",
   "name": "python3"
  },
  "language_info": {
   "codemirror_mode": {
    "name": "ipython",
    "version": 3
   },
   "file_extension": ".py",
   "mimetype": "text/x-python",
   "name": "python",
   "nbconvert_exporter": "python",
   "pygments_lexer": "ipython3",
   "version": "3.6.3"
  }
 },
 "nbformat": 4,
 "nbformat_minor": 2
}
